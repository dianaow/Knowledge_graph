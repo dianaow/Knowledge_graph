{
 "cells": [
  {
   "cell_type": "code",
   "execution_count": 19,
   "metadata": {},
   "outputs": [
    {
     "name": "stderr",
     "output_type": "stream",
     "text": [
      "[nltk_data] Downloading package stopwords to\n",
      "[nltk_data]     /Users/dianaow/nltk_data...\n",
      "[nltk_data]   Package stopwords is already up-to-date!\n",
      "[nltk_data] Downloading package wordnet to /Users/dianaow/nltk_data...\n",
      "[nltk_data]   Package wordnet is already up-to-date!\n"
     ]
    },
    {
     "data": {
      "text/plain": [
       "True"
      ]
     },
     "execution_count": 19,
     "metadata": {},
     "output_type": "execute_result"
    }
   ],
   "source": [
    "import requests\n",
    "import pandas as pd\n",
    "import numpy as np\n",
    "import re\n",
    "import datetime\n",
    "from matplotlib import pyplot as plt\n",
    "import seaborn as sns\n",
    "from sklearn.feature_extraction.text import TfidfVectorizer, CountVectorizer\n",
    "from sklearn.metrics.pairwise import linear_kernel, cosine_similarity\n",
    "from nltk.tokenize import word_tokenize, sent_tokenize\n",
    "from nltk.corpus import stopwords\n",
    "from nltk.stem import WordNetLemmatizer\n",
    "from string import punctuation\n",
    "from mlxtend.preprocessing import TransactionEncoder\n",
    "from mlxtend.frequent_patterns import apriori, association_rules\n",
    "import networkx as nx\n",
    "from sklearn.preprocessing import MinMaxScaler\n",
    "import nltk\n",
    "nltk.download('stopwords')\n",
    "nltk.download('wordnet')"
   ]
  },
  {
   "cell_type": "markdown",
   "metadata": {},
   "source": [
    "## Network Analysis for TIA articles\n",
    "#### Extract articles"
   ]
  },
  {
   "cell_type": "code",
   "execution_count": null,
   "metadata": {
    "scrolled": true
   },
   "outputs": [],
   "source": [
    "df_results = pd.DataFrame()\n",
    "for i in range(1, 31):\n",
    "    res = requests.get('https://www.techinasia.com/wp-json/techinasia/2.0/posts/?page=' + str(i), headers={'User-Agent': 'Chrome'})\n",
    "    if res:\n",
    "        print('Response OK', i)\n",
    "        tmp = pd.DataFrame(res.json()['posts'])\n",
    "        df_results = pd.concat([df_results, tmp])\n",
    "    else:\n",
    "        print('Response Failed')"
   ]
  },
  {
   "cell_type": "code",
   "execution_count": 3,
   "metadata": {},
   "outputs": [
    {
     "data": {
      "text/plain": [
       "(900, 29)"
      ]
     },
     "execution_count": 3,
     "metadata": {},
     "output_type": "execute_result"
    }
   ],
   "source": [
    "# Can only extract up to page 30\n",
    "df_results.shape"
   ]
  },
  {
   "cell_type": "code",
   "execution_count": 4,
   "metadata": {},
   "outputs": [],
   "source": [
    "df_results = df_results.reset_index(drop=True)"
   ]
  },
  {
   "cell_type": "code",
   "execution_count": 5,
   "metadata": {},
   "outputs": [
    {
     "data": {
      "text/html": [
       "<div>\n",
       "<style scoped>\n",
       "    .dataframe tbody tr th:only-of-type {\n",
       "        vertical-align: middle;\n",
       "    }\n",
       "\n",
       "    .dataframe tbody tr th {\n",
       "        vertical-align: top;\n",
       "    }\n",
       "\n",
       "    .dataframe thead th {\n",
       "        text-align: right;\n",
       "    }\n",
       "</style>\n",
       "<table border=\"1\" class=\"dataframe\">\n",
       "  <thead>\n",
       "    <tr style=\"text-align: right;\">\n",
       "      <th></th>\n",
       "      <th>id</th>\n",
       "      <th>date_gmt</th>\n",
       "      <th>modified_gmt</th>\n",
       "      <th>title</th>\n",
       "      <th>slug</th>\n",
       "      <th>status</th>\n",
       "      <th>type</th>\n",
       "      <th>link</th>\n",
       "      <th>content</th>\n",
       "      <th>vsitems</th>\n",
       "      <th>...</th>\n",
       "      <th>tags</th>\n",
       "      <th>companies</th>\n",
       "      <th>is_sponsored</th>\n",
       "      <th>sponsor</th>\n",
       "      <th>is_partnership</th>\n",
       "      <th>external_scripts</th>\n",
       "      <th>show_ads</th>\n",
       "      <th>is_subscriber_exclusive</th>\n",
       "      <th>is_paywalled</th>\n",
       "      <th>read_time</th>\n",
       "    </tr>\n",
       "  </thead>\n",
       "  <tbody>\n",
       "    <tr>\n",
       "      <th>18</th>\n",
       "      <td>649852</td>\n",
       "      <td>2020-06-17T09:36:49</td>\n",
       "      <td>2020-06-17T09:46:28</td>\n",
       "      <td>Indonesian furniture e-tailer Fabelio bags $9m...</td>\n",
       "      <td>fabelio-bags-9m</td>\n",
       "      <td>publish</td>\n",
       "      <td>post</td>\n",
       "      <td>https://www.techinasia.com/fabelio-bags-9m</td>\n",
       "      <td>&lt;p&gt;&lt;a href=\"https://fabelio.com/\" target=\"_bla...</td>\n",
       "      <td>[]</td>\n",
       "      <td>...</td>\n",
       "      <td>[{'id': '12092', 'name': 'appWorks', 'slug': '...</td>\n",
       "      <td>[]</td>\n",
       "      <td>False</td>\n",
       "      <td>{'logo': None, 'name': None, 'link': None}</td>\n",
       "      <td>False</td>\n",
       "      <td>None</td>\n",
       "      <td>True</td>\n",
       "      <td>False</td>\n",
       "      <td>True</td>\n",
       "      <td>3</td>\n",
       "    </tr>\n",
       "  </tbody>\n",
       "</table>\n",
       "<p>1 rows × 29 columns</p>\n",
       "</div>"
      ],
      "text/plain": [
       "        id             date_gmt         modified_gmt  \\\n",
       "18  649852  2020-06-17T09:36:49  2020-06-17T09:46:28   \n",
       "\n",
       "                                                title             slug  \\\n",
       "18  Indonesian furniture e-tailer Fabelio bags $9m...  fabelio-bags-9m   \n",
       "\n",
       "     status  type                                        link  \\\n",
       "18  publish  post  https://www.techinasia.com/fabelio-bags-9m   \n",
       "\n",
       "                                              content vsitems  ...  \\\n",
       "18  <p><a href=\"https://fabelio.com/\" target=\"_bla...      []  ...   \n",
       "\n",
       "                                                 tags companies is_sponsored  \\\n",
       "18  [{'id': '12092', 'name': 'appWorks', 'slug': '...        []        False   \n",
       "\n",
       "                                       sponsor  is_partnership  \\\n",
       "18  {'logo': None, 'name': None, 'link': None}           False   \n",
       "\n",
       "   external_scripts show_ads is_subscriber_exclusive is_paywalled read_time  \n",
       "18             None     True                   False         True         3  \n",
       "\n",
       "[1 rows x 29 columns]"
      ]
     },
     "execution_count": 5,
     "metadata": {},
     "output_type": "execute_result"
    }
   ],
   "source": [
    "df_results[df_results['slug'] == 'fabelio-bags-9m']"
   ]
  },
  {
   "cell_type": "code",
   "execution_count": 20,
   "metadata": {
    "scrolled": true
   },
   "outputs": [],
   "source": [
    "def convert(x):\n",
    "    utc = datetime.datetime.strptime(x, '%Y-%m-%dT%H:%M:%S')\n",
    "    return utc.strftime(\"%Y-%m-%d\")\n",
    "\n",
    "df_results['date_local'] = df_results['date_gmt'].apply(lambda x: convert(x))"
   ]
  },
  {
   "cell_type": "code",
   "execution_count": 21,
   "metadata": {
    "scrolled": true
   },
   "outputs": [],
   "source": [
    "title = []\n",
    "for i,row in df_results.iterrows():\n",
    "    title.append({'author': df_results['author'][i]['display_name'], 'title': df_results['seo'][i]['title'], \\\n",
    "                 'comment_count': df_results['comments_count'][i], 'day_month': df_results['date_local'][i], \\\n",
    "                 'avatar': df_results['author'][i]['avatar_url']})\n",
    "df_new = pd.DataFrame(title)"
   ]
  },
  {
   "cell_type": "markdown",
   "metadata": {},
   "source": [
    "### Author information\n",
    "#### Article count, comment count"
   ]
  },
  {
   "cell_type": "code",
   "execution_count": 22,
   "metadata": {},
   "outputs": [],
   "source": [
    "# Author name with avatar image (only have detailed tooltip information for authors)\n",
    "# He/she contributed a total of _____ articles, with a total of ____ comments => summary.csv\n",
    "# (?) Article count ranking (show only if within top 5) => summary.csv\n",
    "# (?) Comment count ranking (show only if within top 5) => summary.csv\n",
    "# (?) He/she has the most similar articles to _____, based on article title and categories. => summary.csv\n",
    "# (?) Top 3 commented articles (list the top 3 titles)  => summary.csv\n",
    "# Top 3 categories (with % occurrence) => edges.csv\n",
    "# Top 3 keywords (with % occurrence) => edges.csv\n",
    "# Timeline of postings (heatmap) => timeline.csv\n",
    "article_count = pd.DataFrame(df_new.groupby('author')['title'].count()).reset_index().sort_values('title', ascending=False)\n",
    "comment_count = pd.DataFrame(df_new.groupby('author')['comment_count'].sum()).reset_index().sort_values('comment_count', ascending=False)\n",
    "df_summary = pd.merge(article_count, comment_count, on='author', how='left')\n",
    "df_summary['comment_avg'] = df_summary['comment_count'] / df_summary['title']\n",
    "df_summary = df_summary.rename(columns={'author': 'id', 'title': 'article_count'})\n",
    "\n",
    "for i,row in df_summary.iterrows():\n",
    "    df_summary.loc[i, 'avatar'] = df_new[df_new['author'] == df_summary.loc[i, 'id']].head(1)['avatar'].values[0]\n",
    "\n",
    "df_summary.to_csv('./data/summary.csv', index=False)"
   ]
  },
  {
   "cell_type": "markdown",
   "metadata": {},
   "source": [
    "####  Timeline of article contribution"
   ]
  },
  {
   "cell_type": "code",
   "execution_count": 343,
   "metadata": {
    "scrolled": true
   },
   "outputs": [],
   "source": [
    "timeline_overall = df_new.groupby(['day_month'])['title'].count().reset_index()\\\n",
    "    .sort_values('title', ascending=False).rename(columns={'title': 'total'})\n",
    "timeline_overall['id'] = 'Overall'"
   ]
  },
  {
   "cell_type": "code",
   "execution_count": 344,
   "metadata": {
    "scrolled": true
   },
   "outputs": [],
   "source": [
    "df_timeline = df_new.groupby(['author', 'day_month'])['title'].count().reset_index()\\\n",
    "    .sort_values('title', ascending=False).rename(columns={'title': 'total', 'author': 'id'})\n",
    "df_timeline = pd.concat([df_timeline, timeline_overall])\n",
    "df_timeline.to_csv('./data/timeline.csv', index=False)"
   ]
  },
  {
   "cell_type": "markdown",
   "metadata": {},
   "source": [
    "### Extract categories tagged to posts"
   ]
  },
  {
   "cell_type": "code",
   "execution_count": 25,
   "metadata": {},
   "outputs": [],
   "source": [
    "cat = []\n",
    "for i,row in df_results.iterrows():   \n",
    "    for x in df_results['categories'][i]:   \n",
    "        #cat.append({'categories': x['name'], 'author': df_results['author'][i]['display_name']})\n",
    "        cat.append({'categories': x['name'], 'author': df_results['author'][i]['display_name'], 'id': df_results['id'][i]})\n",
    "df_categories = pd.DataFrame(cat)\n",
    "df_categories = df_categories.sort_values(['id', 'categories'], ascending=True)"
   ]
  },
  {
   "cell_type": "code",
   "execution_count": 26,
   "metadata": {},
   "outputs": [],
   "source": [
    "categories = [x.lower() for x in df_categories['categories'].unique()]"
   ]
  },
  {
   "cell_type": "code",
   "execution_count": 27,
   "metadata": {
    "scrolled": true
   },
   "outputs": [
    {
     "data": {
      "text/plain": [
       "['events',\n",
       " 'investments',\n",
       " 'landscape reports',\n",
       " 'premium content',\n",
       " 'startups',\n",
       " 'recruitment',\n",
       " 'tech in asia jobs',\n",
       " 'asia',\n",
       " 'fintech',\n",
       " 'featured stories',\n",
       " 'news',\n",
       " 'announcements',\n",
       " 'ecommerce',\n",
       " 'tia partnership',\n",
       " 'videos',\n",
       " 'community',\n",
       " 'opinion',\n",
       " 'internet',\n",
       " 'profiles',\n",
       " 'social media',\n",
       " 'analysis',\n",
       " 'digital marketing',\n",
       " 'artificial intelligence',\n",
       " 'management',\n",
       " 'transportation',\n",
       " 'acquisitions',\n",
       " 'blockchain',\n",
       " 'gaming',\n",
       " 'visual stories',\n",
       " 'trends',\n",
       " 'consumer tech',\n",
       " 'mobile',\n",
       " 'business-to-business',\n",
       " 'tips',\n",
       " 'product management',\n",
       " 'q&a',\n",
       " 'media',\n",
       " 'data science',\n",
       " 'tia originals',\n",
       " 'conference',\n",
       " 'design',\n",
       " 'engineering',\n",
       " 'greentech',\n",
       " 'robotics',\n",
       " 'gadgets',\n",
       " 'web development']"
      ]
     },
     "execution_count": 27,
     "metadata": {},
     "output_type": "execute_result"
    }
   ],
   "source": [
    "categories "
   ]
  },
  {
   "cell_type": "markdown",
   "metadata": {},
   "source": [
    "#### Association Rules: Find category tags that occur together"
   ]
  },
  {
   "cell_type": "code",
   "execution_count": 130,
   "metadata": {},
   "outputs": [],
   "source": [
    "def get_rules(lst, metric):\n",
    "    te=TransactionEncoder()\n",
    "    te_data=te.fit(lst).transform(lst)\n",
    "    data_x=pd.DataFrame(te_data,columns=te.columns_)\n",
    "\n",
    "    frequent_items= apriori(data_x, use_colnames=True, min_support=0.01)\n",
    "\n",
    "    rules = association_rules(frequent_items, metric=\"lift\", min_threshold=1)\n",
    "    rules.antecedents = rules.antecedents.apply(lambda x: next(iter(x)))\n",
    "    rules.consequents = rules.consequents.apply(lambda x: next(iter(x)))\n",
    "\n",
    "\n",
    "    df_rules = rules.groupby(['antecedents', 'consequents'])[[metric]].max().sort_values(ascending=False,by=metric).reset_index()\n",
    "    df_rules['sorted_row'] = [sorted([a,b]) for a,b in zip(df_rules['antecedents'], df_rules['consequents'])]\n",
    "    df_rules['sorted_row'] = df_rules['sorted_row'].astype(str)\n",
    "    df_rules.drop_duplicates(subset=['sorted_row'], inplace=True)\n",
    "    \n",
    "    return df_rules"
   ]
  },
  {
   "cell_type": "code",
   "execution_count": 161,
   "metadata": {
    "scrolled": false
   },
   "outputs": [
    {
     "name": "stderr",
     "output_type": "stream",
     "text": [
      "/Users/dianaow/anaconda3/lib/python3.7/site-packages/networkx/drawing/nx_pylab.py:611: MatplotlibDeprecationWarning: isinstance(..., numbers.Number)\n",
      "  if cb.is_numlike(alpha):\n"
     ]
    },
    {
     "data": {
      "image/png": "[encoded data removed]",
      "text/plain": [
       "<Figure size 720x720 with 1 Axes>"
      ]
     },
     "metadata": {},
     "output_type": "display_data"
    }
   ],
   "source": [
    "lst = list(df_categories.groupby('id')['categories'].apply(list))\n",
    "df_rules_category = get_rules(lst, 'support')\n",
    "df_rules_category['count'] = df_rules_category['support'] * len(df_results)\n",
    "\n",
    "fig, ax=plt.subplots(figsize=(10,10))\n",
    "GA=nx.from_pandas_edgelist(df_rules_category,source='antecedents',target='consequents')\n",
    "nx.draw(GA,with_labels=True, width=list(df_rules_category['count']/100))\n",
    "plt.show()"
   ]
  },
  {
   "cell_type": "markdown",
   "metadata": {},
   "source": [
    "### Extract keywords from post titles"
   ]
  },
  {
   "cell_type": "code",
   "execution_count": 30,
   "metadata": {
    "scrolled": true
   },
   "outputs": [],
   "source": [
    "wnl = WordNetLemmatizer() \n",
    "\n",
    "# add categories to stop words\n",
    "stop = stopwords.words('english')\n",
    "for i in categories:\n",
    "    stop.append(i)\n",
    "stop = set(stop)"
   ]
  },
  {
   "cell_type": "code",
   "execution_count": 31,
   "metadata": {},
   "outputs": [],
   "source": [
    "def tokenizer(text):\n",
    "\n",
    "    tokens_ = [word_tokenize(sent) for sent in sent_tokenize(text)]\n",
    "\n",
    "    tokens = []\n",
    "    for token_by_sent in tokens_:\n",
    "        tokens += token_by_sent\n",
    "\n",
    "    tokens = list(filter(lambda t: t.lower() not in stop, tokens))\n",
    "    tokens = list(filter(lambda t: t not in punctuation, tokens))\n",
    "    tokens = list(filter(lambda t: t not in [u\"'s\", u\"n't\", u\"...\", u\"''\", u'``', u'\\u2014', u'\\u2026', u'\\u2013'], tokens))\n",
    "     \n",
    "    filtered_tokens = []\n",
    "    for token in tokens:\n",
    "        token = wnl.lemmatize(token)\n",
    "        if re.search('[a-zA-Z]', token):\n",
    "            filtered_tokens.append(token)\n",
    "\n",
    "    filtered_tokens = list(map(lambda token: token.lower(), filtered_tokens))\n",
    "\n",
    "    return filtered_tokens"
   ]
  },
  {
   "cell_type": "markdown",
   "metadata": {},
   "source": [
    "#### Checking the effects of the tokenizer"
   ]
  },
  {
   "cell_type": "code",
   "execution_count": 32,
   "metadata": {
    "scrolled": true
   },
   "outputs": [
    {
     "data": {
      "text/plain": [
       "'The Weekly Snapshot: News from Grab, One Championship, Jio Platforms, and more'"
      ]
     },
     "execution_count": 32,
     "metadata": {},
     "output_type": "execute_result"
    }
   ],
   "source": [
    "df_new['title'][1]"
   ]
  },
  {
   "cell_type": "code",
   "execution_count": 33,
   "metadata": {
    "scrolled": true
   },
   "outputs": [
    {
     "data": {
      "text/plain": [
       "['weekly', 'snapshot', 'grab', 'one', 'championship', 'jio', 'platforms']"
      ]
     },
     "execution_count": 33,
     "metadata": {},
     "output_type": "execute_result"
    }
   ],
   "source": [
    "tokenizer(df_new['title'][1])"
   ]
  },
  {
   "cell_type": "code",
   "execution_count": 34,
   "metadata": {},
   "outputs": [
    {
     "data": {
      "text/plain": [
       "'5-month-old startup raises $10.5m from Sequoia, Lightspeed'"
      ]
     },
     "execution_count": 34,
     "metadata": {},
     "output_type": "execute_result"
    }
   ],
   "source": [
    "df_new['title'][50]"
   ]
  },
  {
   "cell_type": "code",
   "execution_count": 35,
   "metadata": {},
   "outputs": [
    {
     "data": {
      "text/plain": [
       "['5-month-old', 'startup', 'raise', '10.5m', 'sequoia', 'lightspeed']"
      ]
     },
     "execution_count": 35,
     "metadata": {},
     "output_type": "execute_result"
    }
   ],
   "source": [
    "tokenizer(df_new['title'][50])"
   ]
  },
  {
   "cell_type": "markdown",
   "metadata": {},
   "source": [
    "#### Build the tfidf matrix with the titles"
   ]
  },
  {
   "cell_type": "code",
   "execution_count": 36,
   "metadata": {
    "scrolled": true
   },
   "outputs": [],
   "source": [
    "text_content = df_new['title']\n",
    "vector = TfidfVectorizer(max_df=0.4,         # drop words that occur in more than X percent of documents\n",
    "                         tokenizer=tokenizer,\n",
    "                         min_df=1,      # only use words that appear at least X times\n",
    "                         max_features=100,\n",
    "                         lowercase=True, # Convert everything to lower case \n",
    "                         use_idf=True,   # Use idf\n",
    "                         norm=u'l2',     # Normalization\n",
    "                         smooth_idf=True # Prevents divide-by-zero errors\n",
    "                         )\n",
    "tfidf = vector.fit_transform(text_content)"
   ]
  },
  {
   "cell_type": "code",
   "execution_count": 38,
   "metadata": {},
   "outputs": [],
   "source": [
    "names = vector.get_feature_names()\n",
    "cv = CountVectorizer(vocabulary=names)\n",
    "newVec = cv.fit_transform(text_content)\n",
    "df_counts = pd.DataFrame(newVec.toarray(), columns=names)"
   ]
  },
  {
   "cell_type": "code",
   "execution_count": 139,
   "metadata": {
    "scrolled": true
   },
   "outputs": [],
   "source": [
    "keywords = []\n",
    "for i,row in df_new.iterrows(): \n",
    "    df_counts_t = pd.DataFrame(df_counts.transpose()[i]).reset_index().rename(columns={i: 'has'})\n",
    "    df_counts_1 = df_counts_t[df_counts_t['has'] > 0]\n",
    "    for x,row in df_counts_1.iterrows(): \n",
    "        keywords.append({'keywords': df_counts_1.loc[x, 'index'], 'author': df_new['author'][i], \\\n",
    "                         'title': df_new['title'][i], 'id': df_results['id'][i]})\n",
    "df_keywords = pd.DataFrame(keywords)"
   ]
  },
  {
   "cell_type": "markdown",
   "metadata": {},
   "source": [
    "#### Cosine Similarity: Find similar article titles based on keywords"
   ]
  },
  {
   "cell_type": "code",
   "execution_count": 62,
   "metadata": {},
   "outputs": [],
   "source": [
    "def find_similar(tfidf_matrix, index, top_n = 5):\n",
    "    cosine_similarities = linear_kernel(tfidf_matrix[index:index+1], tfidf_matrix).flatten()\n",
    "    related_docs_indices = [i for i in cosine_similarities.argsort()[::-1] if i != index]\n",
    "    return [index for index in related_docs_indices][0:top_n]  "
   ]
  },
  {
   "cell_type": "code",
   "execution_count": 63,
   "metadata": {},
   "outputs": [
    {
     "data": {
      "text/plain": [
       "[382, 92, 573, 506, 149]"
      ]
     },
     "execution_count": 63,
     "metadata": {},
     "output_type": "execute_result"
    }
   ],
   "source": [
    "find_similar(tfidf, 0, top_n = 5)"
   ]
  },
  {
   "cell_type": "code",
   "execution_count": 65,
   "metadata": {
    "scrolled": true
   },
   "outputs": [
    {
     "name": "stdout",
     "output_type": "stream",
     "text": [
      "Jendela360 bags $1m in Beenext-led round\n",
      "Seoul-based Energy X bags $5.1m in Hyundai-led round\n",
      "Intelllex bags $2.1m in Quest Ventures-led round\n",
      "Novocall bags $500k in 500 Startups-led round\n",
      "India's CureFit bags $110m in Temasek-led round\n",
      "Crypto exchange CoinDCX bags $2.5m from Polychain, Coinbase\n"
     ]
    }
   ],
   "source": [
    "for i in df_new.loc[[0, 382, 92, 573, 506, 149], 'title']:\n",
    "    print(i)"
   ]
  },
  {
   "cell_type": "code",
   "execution_count": 71,
   "metadata": {},
   "outputs": [
    {
     "data": {
      "text/plain": [
       "[556, 330, 229, 700, 669, 781, 282, 348, 526, 482]"
      ]
     },
     "execution_count": 71,
     "metadata": {},
     "output_type": "execute_result"
    }
   ],
   "source": [
    "find_similar(tfidf, 200, top_n = 10)"
   ]
  },
  {
   "cell_type": "code",
   "execution_count": 72,
   "metadata": {},
   "outputs": [
    {
     "name": "stdout",
     "output_type": "stream",
     "text": [
      "A roadmap for online travel’s long, painful path to recovery\n",
      "Tech in Asia’s Product Development Conference is moving online!\n",
      "Does Quube have a wholesale platform online?\n",
      "Gojek enters online investments, starting with gold\n",
      "Pakistani online grocery startup MandiExpress raises $725k\n",
      "Online personal care brand LetsShave bags funding from Wipro\n",
      "Cashfree is making life easier for online companies in India\n",
      "Online furniture retailers turn to AR amid the pandemic\n",
      "[Updated] Dubious practices, ‘profiteering’ taint Indonesia’s bid to regulate online lending\n",
      "Yijiupi eyes larger pie of China's online procurement market\n",
      "Future Indonesia: How Tokopedia uses the cloud to make online shopping more seamless\n"
     ]
    }
   ],
   "source": [
    "for i in df_new.loc[[200, 556, 330, 229, 700, 669, 781, 282, 348, 526, 482], 'title']:\n",
    "    print(i)"
   ]
  },
  {
   "cell_type": "markdown",
   "metadata": {},
   "source": [
    "#### Which keywords commonly paired together?"
   ]
  },
  {
   "cell_type": "code",
   "execution_count": 44,
   "metadata": {},
   "outputs": [
    {
     "name": "stderr",
     "output_type": "stream",
     "text": [
      "/Users/dianaow/anaconda3/lib/python3.7/site-packages/scipy/sparse/_index.py:124: SparseEfficiencyWarning: Changing the sparsity structure of a csc_matrix is expensive. lil_matrix is more efficient.\n",
      "  self._set_arrayXarray(i, j, x)\n"
     ]
    }
   ],
   "source": [
    "Xc = (newVec.T * newVec) # This is the matrix manipulation step\n",
    "Xc.setdiag(0)\n",
    "co_matrix = pd.DataFrame(data = Xc.toarray(), columns = names, index = names)"
   ]
  },
  {
   "cell_type": "code",
   "execution_count": 45,
   "metadata": {
    "scrolled": true
   },
   "outputs": [
    {
     "data": {
      "text/plain": [
       "<matplotlib.axes._subplots.AxesSubplot at 0x10ecf1898>"
      ]
     },
     "execution_count": 45,
     "metadata": {},
     "output_type": "execute_result"
    },
    {
     "data": {
      "image/png": "[encoded data removed]",
      "text/plain": [
       "<Figure size 1080x1080 with 2 Axes>"
      ]
     },
     "metadata": {
      "needs_background": "light"
     },
     "output_type": "display_data"
    }
   ],
   "source": [
    "plt.figure(figsize=(15,15))\n",
    "sns.heatmap(co_matrix)"
   ]
  },
  {
   "cell_type": "markdown",
   "metadata": {},
   "source": [
    "#### Association Rules: Find keywords that occur together"
   ]
  },
  {
   "cell_type": "code",
   "execution_count": 140,
   "metadata": {
    "scrolled": true
   },
   "outputs": [],
   "source": [
    "# replace similar keywords not picked up lemmetizer\n",
    "df_keywords = df_keywords.replace(to_replace = ['fund', 'funds', 'funding','funded'], value =\"fund\") \n",
    "df_keywords = df_keywords.replace(to_replace = ['launch', 'launches', 'launching','launched'], value =\"launch\") \n",
    "df_keywords = df_keywords.replace(to_replace = ['coronavirus', 'covid-19', 'pandemic'], value =\"coronavirus\")\n",
    "df_keywords = df_keywords.replace(to_replace = ['firms', 'firm'], value =\"firms\")\n",
    "df_keywords = df_keywords.replace(to_replace = ['china', 'chinese'], value =\"china\")\n",
    "df_keywords = df_keywords.replace(to_replace = ['india', 'indian'], value =\"india\")\n",
    "df_keywords = df_keywords.replace(to_replace = ['indonesia', 'indonesian'], value =\"indonesia\")\n",
    "df_keywords = df_keywords.replace(to_replace = ['investor', 'investment', 'investments','investing', 'invested', 'invests'], value =\"investment\")\n",
    "df_keywords = df_keywords.replace(to_replace = ['pay', 'payment', 'payments'], value =\"pay\")\n",
    "df_keywords = df_keywords.replace(to_replace = ['hong', 'kong'], value =\"hong kong\")"
   ]
  },
  {
   "cell_type": "code",
   "execution_count": 142,
   "metadata": {
    "scrolled": true
   },
   "outputs": [
    {
     "name": "stderr",
     "output_type": "stream",
     "text": [
      "/Users/dianaow/anaconda3/lib/python3.7/site-packages/networkx/drawing/nx_pylab.py:611: MatplotlibDeprecationWarning: isinstance(..., numbers.Number)\n",
      "  if cb.is_numlike(alpha):\n"
     ]
    },
    {
     "data": {
      "image/png": "[encoded data removed]",
      "text/plain": [
       "<Figure size 720x720 with 1 Axes>"
      ]
     },
     "metadata": {},
     "output_type": "display_data"
    }
   ],
   "source": [
    "lst1 = list(df_keywords.groupby('id')['keywords'].apply(list))\n",
    "df_rules_keywords = get_rules(lst1, 'support')\n",
    "df_rules_keywords['count'] = df_rules_keywords['support'] * len(df_results)\n",
    "\n",
    "fig, ax=plt.subplots(figsize=(10,10))\n",
    "GA=nx.from_pandas_edgelist(df_rules_keywords,source='antecedents',target='consequents')\n",
    "nx.draw(GA,with_labels=True, width=list(df_rules_keywords['count']/10))\n",
    "plt.show()"
   ]
  },
  {
   "cell_type": "code",
   "execution_count": 350,
   "metadata": {
    "scrolled": true
   },
   "outputs": [
    {
     "name": "stdout",
     "output_type": "stream",
     "text": [
      "The most active venture capital firms in Southeast Asia\n",
      "Wallex raises series A funding from BAce Capital, others\n",
      "EDBI, Seeds Capital launch $205m fund for Singapore startups\n",
      "Wiz nets $6m in pre-series A round led by GGV Capital\n",
      "Is RBF an alternative to traditional loans and venture capital?\n",
      "India's Khatabook raises $60m in round led by B Capital\n",
      "FoodRazor bags $900k in seed round led by Cocoon Capital\n",
      "Helicap scores $10m in round led by Saison Capital\n",
      "Sequoia Capital names 15 startups in third Surge cohort\n",
      "The most active venture capital firms in China\n"
     ]
    }
   ],
   "source": [
    "# checking how keywords appear in titles\n",
    "# keyowrds like 'venture' and 'capital' seem to be able to form the word 'venture capital', but i will keep it separated\n",
    "# Capital seems of be part of many company names\n",
    "for i in df_keywords[df_keywords['keywords'] == 'capital']['title'].head(10):\n",
    "    print(i)"
   ]
  },
  {
   "cell_type": "code",
   "execution_count": 349,
   "metadata": {
    "scrolled": true
   },
   "outputs": [
    {
     "name": "stdout",
     "output_type": "stream",
     "text": [
      "Thai fintech firm Synqa rakes in $80m in series C funding\n",
      "Indonesian logistics startup Shipper bags series A money\n",
      "Furniture e-tailer Fabelio bags $9m in series C1 money\n",
      "Thai proptech startup ZmyHome bags pre-series A money\n",
      "Wallex raises series A funding from BAce Capital, others\n",
      "The series B pitch deck that landed Pendo $20m\n",
      "Healthtech startup Ubie bags $18.7m in series B money\n",
      "E-scooter startup Beam raises $26m in series A round\n",
      "Insurtech startup PolicyStreet banks $1.8m in series A money\n",
      "Front’s series A pitch deck\n"
     ]
    }
   ],
   "source": [
    "# As also seen in the graph above, series, money, round, funding, pitch deck frequently appear together in article titles\n",
    "for i in df_keywords[df_keywords['keywords'] == 'series']['title'].head(10):\n",
    "    print(i)"
   ]
  },
  {
   "cell_type": "markdown",
   "metadata": {},
   "source": [
    "#### Final round of keywords trimming\n",
    "- Manually remove verbs, descriptive verbs and numbers\n",
    "- Manually remove very highly paired words "
   ]
  },
  {
   "cell_type": "code",
   "execution_count": 60,
   "metadata": {},
   "outputs": [],
   "source": [
    "to_keep = ['app', 'asian', 'bank', 'bytedance', 'capital', 'ceo', 'china', 'coronavirus', 'crisis', 'delivery',\\\n",
    "           'digital', 'edtech', 'facebook', 'fund', 'global', 'gojek', 'grab', 'honestbee', 'hong kong', 'india',\\\n",
    "           'indonesia', 'jio', 'job', 'launch', 'layoff', 'money', 'online', 'oyo', 'pay', 'platform', 'sea', \\\n",
    "           'seed', 'series', 'service', 'singapore', 'softbank', 'southeast', 'staff', 'tech', 'tencent', 'uber', \\\n",
    "           'unicorn', 'venture']"
   ]
  },
  {
   "cell_type": "code",
   "execution_count": 143,
   "metadata": {},
   "outputs": [],
   "source": [
    "df_keywords = df_keywords[df_keywords['keywords'].isin(to_keep)]"
   ]
  },
  {
   "cell_type": "code",
   "execution_count": 152,
   "metadata": {
    "scrolled": true
   },
   "outputs": [
    {
     "name": "stderr",
     "output_type": "stream",
     "text": [
      "/Users/dianaow/anaconda3/lib/python3.7/site-packages/networkx/drawing/nx_pylab.py:611: MatplotlibDeprecationWarning: isinstance(..., numbers.Number)\n",
      "  if cb.is_numlike(alpha):\n"
     ]
    },
    {
     "data": {
      "image/png": "[encoded data removed]",
      "text/plain": [
       "<Figure size 360x360 with 1 Axes>"
      ]
     },
     "metadata": {},
     "output_type": "display_data"
    }
   ],
   "source": [
    "# Recalculate the association rules for the finalized set of keywords\n",
    "lst1 = list(df_keywords.groupby('id')['keywords'].apply(list))\n",
    "df_rules_keywords = get_rules(lst1, 'support')\n",
    "df_rules_keywords['count'] = df_rules_keywords['support'] * len(df_results)\n",
    "\n",
    "fig, ax=plt.subplots(figsize=(5,5))\n",
    "GA=nx.from_pandas_edgelist(df_rules_keywords,source='antecedents',target='consequents')\n",
    "nx.draw(GA,with_labels=True, width=list(df_rules_keywords['count']/10))\n",
    "plt.show()"
   ]
  },
  {
   "cell_type": "markdown",
   "metadata": {},
   "source": [
    "#### Association rules: Find categories and keywords that commonly occur together \n",
    "- Links can also be established between categories and keywords, by calculating association rules after combining categories and keywords. This would an additional 50 edges.\n",
    "- Some keywords-keywords edges will be lost. Eg. Softbank - fund, becomes Softbank - News instead.\n",
    "- To prevent the graph from becoming too dense and risk hairball graphs, i will not include them in the network"
   ]
  },
  {
   "cell_type": "code",
   "execution_count": 333,
   "metadata": {
    "scrolled": false
   },
   "outputs": [
    {
     "name": "stderr",
     "output_type": "stream",
     "text": [
      "/Users/dianaow/anaconda3/lib/python3.7/site-packages/networkx/drawing/nx_pylab.py:611: MatplotlibDeprecationWarning: isinstance(..., numbers.Number)\n",
      "  if cb.is_numlike(alpha):\n"
     ]
    },
    {
     "data": {
      "image/png": "[encoded data removed]",
      "text/plain": [
       "<Figure size 720x720 with 1 Axes>"
      ]
     },
     "metadata": {},
     "output_type": "display_data"
    }
   ],
   "source": [
    "df_keywords_categories = pd.concat([df_keywords, df_categories.rename(columns={'categories': 'keywords'})])\n",
    "lst2 = list(df_keywords_categories.groupby('id')['keywords'].apply(list))\n",
    "df_rules = get_rules(lst2, 'support')\n",
    "df_rules['count'] = df_rules['support'] * len(df_results)\n",
    "\n",
    "fig, ax=plt.subplots(figsize=(10,10))\n",
    "GA=nx.from_pandas_edgelist(df_rules,source='antecedents',target='consequents')\n",
    "color_map = []\n",
    "for node in GA:\n",
    "    if node in names:\n",
    "        color_map.append('blue')\n",
    "    else: \n",
    "        color_map.append('green') \n",
    "nx.draw(GA,with_labels=True, node_color=color_map, width=list(df_rules['count']/50))\n",
    "plt.show()"
   ]
  },
  {
   "cell_type": "markdown",
   "metadata": {},
   "source": [
    "### Construct graph edges"
   ]
  },
  {
   "cell_type": "code",
   "execution_count": 245,
   "metadata": {
    "scrolled": true
   },
   "outputs": [],
   "source": [
    "keywords_edges = pd.DataFrame(df_keywords.groupby(['author', 'keywords'])['keywords'].count())\\\n",
    "    .rename(columns={'keywords': 'total'}).reset_index()\\\n",
    "    .sort_values('total', ascending=False).rename(columns={'author': 'start_id', 'keywords': 'end_id'})\n",
    "keywords_edges['category'] = 'author-keywords'"
   ]
  },
  {
   "cell_type": "code",
   "execution_count": 246,
   "metadata": {
    "scrolled": true
   },
   "outputs": [],
   "source": [
    "categories_edges = pd.DataFrame(df_categories.groupby(['author', 'categories'])['categories'].count())\\\n",
    "    .rename(columns={'categories': 'total'}).reset_index()\\\n",
    "    .sort_values('total', ascending=False).rename(columns={'author': 'start_id', 'categories': 'end_id'})\n",
    "categories_edges['category'] = 'author-categories'"
   ]
  },
  {
   "cell_type": "code",
   "execution_count": 247,
   "metadata": {
    "scrolled": true
   },
   "outputs": [],
   "source": [
    "wn_keywords_edges = df_rules_keywords.rename(columns={'antecedents': 'start_id', 'consequents': 'end_id',\\\n",
    "                                                      'count': 'total'})[['start_id', 'end_id', 'total']]\n",
    "wn_keywords_edges['category'] = 'keywords-keywords'"
   ]
  },
  {
   "cell_type": "code",
   "execution_count": 248,
   "metadata": {
    "scrolled": true
   },
   "outputs": [],
   "source": [
    "wn_categories_edges = df_rules_category.rename(columns={'antecedents': 'start_id', 'consequents': 'end_id',\\\n",
    "                                                      'count': 'total'})[['start_id', 'end_id', 'total']]\n",
    "wn_categories_edges['category'] = 'categories-categories'"
   ]
  },
  {
   "cell_type": "code",
   "execution_count": 284,
   "metadata": {
    "scrolled": true
   },
   "outputs": [],
   "source": [
    "edges = pd.concat([categories_edges, keywords_edges, wn_keywords_edges, wn_categories_edges]).reset_index(drop=True)"
   ]
  },
  {
   "cell_type": "code",
   "execution_count": 285,
   "metadata": {},
   "outputs": [
    {
     "data": {
      "text/plain": [
       "(879, 4)"
      ]
     },
     "execution_count": 285,
     "metadata": {},
     "output_type": "execute_result"
    }
   ],
   "source": [
    "edges.shape"
   ]
  },
  {
   "cell_type": "code",
   "execution_count": 286,
   "metadata": {
    "scrolled": true
   },
   "outputs": [
    {
     "data": {
      "text/plain": [
       "1.0"
      ]
     },
     "execution_count": 286,
     "metadata": {},
     "output_type": "execute_result"
    }
   ],
   "source": [
    "np.percentile(edges['total'].values,50)"
   ]
  },
  {
   "cell_type": "code",
   "execution_count": 287,
   "metadata": {},
   "outputs": [],
   "source": [
    "# Trim the number of edges by only keeping edges with count above the 50th percentile\n",
    "edges = edges[edges['total'] > 1]"
   ]
  },
  {
   "cell_type": "code",
   "execution_count": 288,
   "metadata": {},
   "outputs": [
    {
     "data": {
      "text/plain": [
       "(410, 4)"
      ]
     },
     "execution_count": 288,
     "metadata": {},
     "output_type": "execute_result"
    }
   ],
   "source": [
    "edges.shape"
   ]
  },
  {
   "cell_type": "code",
   "execution_count": 314,
   "metadata": {},
   "outputs": [
    {
     "data": {
      "text/html": [
       "<div>\n",
       "<style scoped>\n",
       "    .dataframe tbody tr th:only-of-type {\n",
       "        vertical-align: middle;\n",
       "    }\n",
       "\n",
       "    .dataframe tbody tr th {\n",
       "        vertical-align: top;\n",
       "    }\n",
       "\n",
       "    .dataframe thead th {\n",
       "        text-align: right;\n",
       "    }\n",
       "</style>\n",
       "<table border=\"1\" class=\"dataframe\">\n",
       "  <thead>\n",
       "    <tr style=\"text-align: right;\">\n",
       "      <th></th>\n",
       "      <th>start_id</th>\n",
       "      <th>end_id</th>\n",
       "      <th>total</th>\n",
       "      <th>category</th>\n",
       "    </tr>\n",
       "  </thead>\n",
       "  <tbody>\n",
       "    <tr>\n",
       "      <th>846</th>\n",
       "      <td>News</td>\n",
       "      <td>Startups</td>\n",
       "      <td>479.0</td>\n",
       "      <td>categories-categories</td>\n",
       "    </tr>\n",
       "    <tr>\n",
       "      <th>847</th>\n",
       "      <td>News</td>\n",
       "      <td>Investments</td>\n",
       "      <td>319.0</td>\n",
       "      <td>categories-categories</td>\n",
       "    </tr>\n",
       "    <tr>\n",
       "      <th>848</th>\n",
       "      <td>Startups</td>\n",
       "      <td>Investments</td>\n",
       "      <td>297.0</td>\n",
       "      <td>categories-categories</td>\n",
       "    </tr>\n",
       "    <tr>\n",
       "      <th>0</th>\n",
       "      <td>Miguel Cordon</td>\n",
       "      <td>News</td>\n",
       "      <td>230.0</td>\n",
       "      <td>author-categories</td>\n",
       "    </tr>\n",
       "    <tr>\n",
       "      <th>1</th>\n",
       "      <td>Doris Yu</td>\n",
       "      <td>News</td>\n",
       "      <td>225.0</td>\n",
       "      <td>author-categories</td>\n",
       "    </tr>\n",
       "  </tbody>\n",
       "</table>\n",
       "</div>"
      ],
      "text/plain": [
       "          start_id       end_id  total               category\n",
       "846           News     Startups  479.0  categories-categories\n",
       "847           News  Investments  319.0  categories-categories\n",
       "848       Startups  Investments  297.0  categories-categories\n",
       "0    Miguel Cordon         News  230.0      author-categories\n",
       "1         Doris Yu         News  225.0      author-categories"
      ]
     },
     "execution_count": 314,
     "metadata": {},
     "output_type": "execute_result"
    }
   ],
   "source": [
    "edges.sort_values('total', ascending=False).head()"
   ]
  },
  {
   "cell_type": "code",
   "execution_count": 290,
   "metadata": {},
   "outputs": [],
   "source": [
    "edges.to_csv('./data/edges.csv', index=False)"
   ]
  },
  {
   "cell_type": "markdown",
   "metadata": {},
   "source": [
    "### Construct graph nodes"
   ]
  },
  {
   "cell_type": "code",
   "execution_count": 291,
   "metadata": {
    "scrolled": true
   },
   "outputs": [],
   "source": [
    "author_nodes = df_new.groupby('author').count().reset_index()\\\n",
    "    .rename(columns={'title': 'total', 'author': 'id'}).sort_values('total', ascending=False)\n",
    "author_nodes = author_nodes[['id', 'total']]\n",
    "author_nodes['category'] = 'author'"
   ]
  },
  {
   "cell_type": "code",
   "execution_count": 292,
   "metadata": {
    "scrolled": true
   },
   "outputs": [],
   "source": [
    "categories_nodes = df_categories.groupby('categories').count().reset_index()\\\n",
    "    .rename(columns={'author': 'total'}).sort_values('total', ascending=False)\n",
    "categories_nodes['category'] = 'categories'\n",
    "categories_nodes = categories_nodes.drop(['id'], axis=1).rename(columns={'categories': 'id'})"
   ]
  },
  {
   "cell_type": "code",
   "execution_count": 293,
   "metadata": {
    "scrolled": true
   },
   "outputs": [],
   "source": [
    "keywords_nodes = df_keywords.groupby('keywords')['author'].count().reset_index()\\\n",
    "    .rename(columns={'author': 'total', 'keywords': 'id'}).sort_values('total', ascending=False)\n",
    "keywords_nodes['category'] = 'keywords'"
   ]
  },
  {
   "cell_type": "code",
   "execution_count": 294,
   "metadata": {
    "scrolled": true
   },
   "outputs": [],
   "source": [
    "nodes = pd.concat([keywords_nodes, categories_nodes, author_nodes]).reset_index(drop=True)"
   ]
  },
  {
   "cell_type": "code",
   "execution_count": 295,
   "metadata": {},
   "outputs": [
    {
     "data": {
      "text/plain": [
       "(186, 3)"
      ]
     },
     "execution_count": 295,
     "metadata": {},
     "output_type": "execute_result"
    }
   ],
   "source": [
    "nodes.shape"
   ]
  },
  {
   "cell_type": "code",
   "execution_count": 296,
   "metadata": {
    "scrolled": true
   },
   "outputs": [],
   "source": [
    "#METHOD 1\n",
    "#np.percentile(nodes['total'].values,50)\n",
    "#Trim the number of nodes by only keeping nodes with count above the 50th percentile\n",
    "#nodes = nodes[nodes['total'] > 6]"
   ]
  },
  {
   "cell_type": "code",
   "execution_count": 297,
   "metadata": {
    "scrolled": true
   },
   "outputs": [],
   "source": [
    "# METHOD 2\n",
    "# Note: Not all authors will be displayed within the network\n",
    "# Only keep nodes found as the start and end id of edges\n",
    "nodes_to_keep = np.concatenate((edges['start_id'].unique(),edges['end_id'].unique()), axis=0)\n",
    "nodes = nodes[nodes['id'].isin(nodes_to_keep)]"
   ]
  },
  {
   "cell_type": "code",
   "execution_count": 298,
   "metadata": {},
   "outputs": [
    {
     "data": {
      "text/plain": [
       "(130, 3)"
      ]
     },
     "execution_count": 298,
     "metadata": {},
     "output_type": "execute_result"
    }
   ],
   "source": [
    "nodes.shape"
   ]
  },
  {
   "cell_type": "code",
   "execution_count": 299,
   "metadata": {},
   "outputs": [
    {
     "data": {
      "text/html": [
       "<div>\n",
       "<style scoped>\n",
       "    .dataframe tbody tr th:only-of-type {\n",
       "        vertical-align: middle;\n",
       "    }\n",
       "\n",
       "    .dataframe tbody tr th {\n",
       "        vertical-align: top;\n",
       "    }\n",
       "\n",
       "    .dataframe thead th {\n",
       "        text-align: right;\n",
       "    }\n",
       "</style>\n",
       "<table border=\"1\" class=\"dataframe\">\n",
       "  <thead>\n",
       "    <tr style=\"text-align: right;\">\n",
       "      <th></th>\n",
       "      <th>id</th>\n",
       "      <th>total</th>\n",
       "      <th>category</th>\n",
       "    </tr>\n",
       "  </thead>\n",
       "  <tbody>\n",
       "    <tr>\n",
       "      <th>0</th>\n",
       "      <td>fund</td>\n",
       "      <td>87</td>\n",
       "      <td>keywords</td>\n",
       "    </tr>\n",
       "    <tr>\n",
       "      <th>1</th>\n",
       "      <td>series</td>\n",
       "      <td>77</td>\n",
       "      <td>keywords</td>\n",
       "    </tr>\n",
       "    <tr>\n",
       "      <th>2</th>\n",
       "      <td>indonesia</td>\n",
       "      <td>57</td>\n",
       "      <td>keywords</td>\n",
       "    </tr>\n",
       "    <tr>\n",
       "      <th>3</th>\n",
       "      <td>india</td>\n",
       "      <td>55</td>\n",
       "      <td>keywords</td>\n",
       "    </tr>\n",
       "    <tr>\n",
       "      <th>4</th>\n",
       "      <td>singapore</td>\n",
       "      <td>52</td>\n",
       "      <td>keywords</td>\n",
       "    </tr>\n",
       "  </tbody>\n",
       "</table>\n",
       "</div>"
      ],
      "text/plain": [
       "          id  total  category\n",
       "0       fund     87  keywords\n",
       "1     series     77  keywords\n",
       "2  indonesia     57  keywords\n",
       "3      india     55  keywords\n",
       "4  singapore     52  keywords"
      ]
     },
     "execution_count": 299,
     "metadata": {},
     "output_type": "execute_result"
    }
   ],
   "source": [
    "nodes.head()"
   ]
  },
  {
   "cell_type": "code",
   "execution_count": 300,
   "metadata": {},
   "outputs": [],
   "source": [
    "nodes.to_csv('./data/nodes.csv', index=False)"
   ]
  },
  {
   "cell_type": "code",
   "execution_count": 301,
   "metadata": {
    "scrolled": true
   },
   "outputs": [
    {
     "name": "stdout",
     "output_type": "stream",
     "text": [
      "99 authors contributed articles\n",
      "There are a total of 55 authors left in network after filtering\n"
     ]
    }
   ],
   "source": [
    "# Checks: How many authors are left out of the network after filtering\n",
    "txt = \"{} authors contributed articles\"\n",
    "orig = len(df_summary['id'])\n",
    "print(txt.format(orig))\n",
    "\n",
    "txt1 = \"There are a total of {} authors left in network after filtering\"\n",
    "filt = len(nodes[nodes['category'] == 'author']['id'])\n",
    "print(txt1.format(filt))"
   ]
  },
  {
   "cell_type": "markdown",
   "metadata": {},
   "source": [
    "## Network Exploration"
   ]
  },
  {
   "cell_type": "code",
   "execution_count": 302,
   "metadata": {
    "scrolled": true
   },
   "outputs": [],
   "source": [
    "G = nx.Graph()\n",
    "\n",
    "for index, row in edges.iterrows():\n",
    "    G.add_edge(row[\"start_id\"], row[\"end_id\"], weight=row[\"total\"], category=row[\"category\"])\n",
    "    \n",
    "for index, row in nodes.iterrows():\n",
    "    G.add_node(row[\"id\"], weight=row[\"total\"], category=row[\"category\"])"
   ]
  },
  {
   "cell_type": "code",
   "execution_count": 315,
   "metadata": {
    "scrolled": true
   },
   "outputs": [],
   "source": [
    "# Its messy, use d3 force-layout to further customize the graph on the web browser\n",
    "# There doesn't seem to be any floating nodes\n",
    "#fig, ax=plt.subplots(figsize=(16,16))\n",
    "#color_map_nodes = {'author':'#f09494', 'categories':'#eebcbc', 'keywords':'#72bbd0'}\n",
    "#color_map_edges = {'author-keywords':'#000000', 'author-categories':'#000000','keywords-keywords':'#629fff', 'categories-categories':'#bcc2f2'}\n",
    "#node_color= [color_map_nodes[d['category']] for n,d in G.nodes(data=True)]\n",
    "#edge_color= [color_map_edges[e[2]['category']] for e in G.edges(data=True)]\n",
    "#node_size = [d['weight']*10 for n,d in G.nodes(data=True)]\n",
    "#edge_width = [e[2]['weight']/10 for e in G.edges(data=True)]\n",
    "#pos = nx.drawing.spring_layout(G,k=0.70,iterations=60)\n",
    "#nx.draw_networkx(G,pos=pos, node_color=node_color, node_size=node_size, edge_color=edge_color, edge_width=edge_width)\n",
    "#plt.show()"
   ]
  },
  {
   "cell_type": "markdown",
   "metadata": {},
   "source": [
    "### Descriptive statistics"
   ]
  },
  {
   "cell_type": "code",
   "execution_count": 310,
   "metadata": {},
   "outputs": [
    {
     "data": {
      "text/plain": [
       "1"
      ]
     },
     "execution_count": 310,
     "metadata": {},
     "output_type": "execute_result"
    }
   ],
   "source": [
    "# The graph has only a single connected component\n",
    "nx.number_connected_components(G)"
   ]
  },
  {
   "cell_type": "code",
   "execution_count": 311,
   "metadata": {},
   "outputs": [
    {
     "data": {
      "text/plain": [
       "0.04889683959451401"
      ]
     },
     "execution_count": 311,
     "metadata": {},
     "output_type": "execute_result"
    }
   ],
   "source": [
    "# Graph density\n",
    "nx.density(G)"
   ]
  },
  {
   "cell_type": "code",
   "execution_count": 312,
   "metadata": {},
   "outputs": [
    {
     "data": {
      "text/plain": [
       "6"
      ]
     },
     "execution_count": 312,
     "metadata": {},
     "output_type": "execute_result"
    }
   ],
   "source": [
    "# The diameter of a graph is the length of the longest path among all the shortest path that link any two nodes\n",
    "nx.diameter(G)"
   ]
  },
  {
   "cell_type": "markdown",
   "metadata": {},
   "source": [
    "#### Degree distribution\n",
    "- The distribution is scale-free.There is a large number of nodes that have a small degree, but a significant number of nodes have a high degree."
   ]
  },
  {
   "cell_type": "code",
   "execution_count": 183,
   "metadata": {},
   "outputs": [
    {
     "data": {
      "text/plain": [
       "(array([85., 27., 10.,  2.,  2.,  0.,  0.,  1.,  1.,  2.]),\n",
       " array([ 1. ,  5.8, 10.6, 15.4, 20.2, 25. , 29.8, 34.6, 39.4, 44.2, 49. ]),\n",
       " <a list of 10 Patch objects>)"
      ]
     },
     "execution_count": 183,
     "metadata": {},
     "output_type": "execute_result"
    },
    {
     "data": {
      "image/png": "[encoded data removed]",
      "text/plain": [
       "<Figure size 432x288 with 1 Axes>"
      ]
     },
     "metadata": {
      "needs_background": "light"
     },
     "output_type": "display_data"
    }
   ],
   "source": [
    "plt.hist([node[1] for node in list(G.degree())])"
   ]
  },
  {
   "cell_type": "markdown",
   "metadata": {},
   "source": [
    "### Centrality Measures\n",
    "- To evaluate the importance of some entities in a network"
   ]
  },
  {
   "cell_type": "markdown",
   "metadata": {},
   "source": [
    "#### Degree centrality\n",
    "- The number of neighbors that a node has normalized to the number of individuals it could be connected to in the entire graph"
   ]
  },
  {
   "cell_type": "code",
   "execution_count": 189,
   "metadata": {
    "scrolled": false
   },
   "outputs": [
    {
     "data": {
      "text/plain": [
       "[('Doris Yu', 0.3798449612403101),\n",
       " ('Startups', 0.3488372093023256),\n",
       " ('Miguel Cordon', 0.34108527131782945),\n",
       " ('News', 0.3023255813953488),\n",
       " ('Premium Content', 0.18604651162790697),\n",
       " ('Investments', 0.17829457364341084),\n",
       " ('Terence Lee', 0.12403100775193798),\n",
       " ('Kenan Machado', 0.12403100775193798),\n",
       " ('TIA Visuals', 0.11627906976744186),\n",
       " ('TIA Bot', 0.11627906976744186)]"
      ]
     },
     "execution_count": 189,
     "metadata": {},
     "output_type": "execute_result"
    }
   ],
   "source": [
    "sorted(nx.degree_centrality(G).items(), key=lambda x:x[1], reverse=True)[0:10]"
   ]
  },
  {
   "cell_type": "code",
   "execution_count": 203,
   "metadata": {},
   "outputs": [
    {
     "data": {
      "text/html": [
       "<div>\n",
       "<style scoped>\n",
       "    .dataframe tbody tr th:only-of-type {\n",
       "        vertical-align: middle;\n",
       "    }\n",
       "\n",
       "    .dataframe tbody tr th {\n",
       "        vertical-align: top;\n",
       "    }\n",
       "\n",
       "    .dataframe thead th {\n",
       "        text-align: right;\n",
       "    }\n",
       "</style>\n",
       "<table border=\"1\" class=\"dataframe\">\n",
       "  <thead>\n",
       "    <tr style=\"text-align: right;\">\n",
       "      <th></th>\n",
       "      <th>pagerank</th>\n",
       "      <th>betweeness</th>\n",
       "      <th>degree</th>\n",
       "    </tr>\n",
       "  </thead>\n",
       "  <tbody>\n",
       "    <tr>\n",
       "      <th>pagerank</th>\n",
       "      <td>1.000000</td>\n",
       "      <td>0.624050</td>\n",
       "      <td>0.897096</td>\n",
       "    </tr>\n",
       "    <tr>\n",
       "      <th>betweeness</th>\n",
       "      <td>0.624050</td>\n",
       "      <td>1.000000</td>\n",
       "      <td>0.794066</td>\n",
       "    </tr>\n",
       "    <tr>\n",
       "      <th>degree</th>\n",
       "      <td>0.897096</td>\n",
       "      <td>0.794066</td>\n",
       "      <td>1.000000</td>\n",
       "    </tr>\n",
       "  </tbody>\n",
       "</table>\n",
       "</div>"
      ],
      "text/plain": [
       "            pagerank  betweeness    degree\n",
       "pagerank    1.000000    0.624050  0.897096\n",
       "betweeness  0.624050    1.000000  0.794066\n",
       "degree      0.897096    0.794066  1.000000"
      ]
     },
     "execution_count": 203,
     "metadata": {},
     "output_type": "execute_result"
    }
   ],
   "source": [
    "cor = pd.DataFrame.from_records([nx.pagerank_numpy(G, weight='weight'), \\\n",
    "                                 nx.betweenness_centrality(G, weight='weight'),\\\n",
    "                                 nx.degree_centrality(G)])\n",
    "cor.T.corr().rename(columns={0:'pagerank', 1:'betweeness', 2:'degree'}, \\\n",
    "                    index={0:'pagerank', 1:'betweeness', 2:'degree'})"
   ]
  },
  {
   "cell_type": "markdown",
   "metadata": {},
   "source": [
    "#### Pagerank (extension of eigenvector_centrality)\n",
    "- This measure uncovers nodes whose influence extends beyond their direct connections into the wider network."
   ]
  },
  {
   "cell_type": "code",
   "execution_count": 185,
   "metadata": {},
   "outputs": [
    {
     "data": {
      "text/plain": [
       "[('Doris Yu', 0.055223635515049774),\n",
       " ('Miguel Cordon', 0.04888786182527342),\n",
       " ('Startups', 0.0483316199727581),\n",
       " ('News', 0.04091436755942857),\n",
       " ('Premium Content', 0.02372446024711856),\n",
       " ('Investments', 0.022459643971468154),\n",
       " ('Kenan Machado', 0.017301403619148104),\n",
       " ('TIA Bot', 0.016946910391743154),\n",
       " ('Terence Lee', 0.0167764594011343),\n",
       " ('Stefanie Yeo', 0.015726678568002077)]"
      ]
     },
     "execution_count": 185,
     "metadata": {},
     "output_type": "execute_result"
    }
   ],
   "source": [
    "sorted(nx.pagerank_numpy(G, weight=None).items(), key=lambda x:x[1], reverse=True)[0:10]"
   ]
  },
  {
   "cell_type": "code",
   "execution_count": 186,
   "metadata": {},
   "outputs": [
    {
     "data": {
      "text/plain": [
       "[('News', 0.11782890093558161),\n",
       " ('Startups', 0.11032900228191427),\n",
       " ('Miguel Cordon', 0.07554918870739136),\n",
       " ('Investments', 0.0737913844867795),\n",
       " ('Doris Yu', 0.07256556712542173),\n",
       " ('Premium Content', 0.032263664680878844),\n",
       " ('Fintech', 0.021921162278515906),\n",
       " ('Stefanie Yeo', 0.01304903125056008),\n",
       " ('TIA Bot', 0.01240703779746226),\n",
       " ('Asia', 0.012188231746059255)]"
      ]
     },
     "execution_count": 186,
     "metadata": {},
     "output_type": "execute_result"
    }
   ],
   "source": [
    "sorted(nx.pagerank_numpy(G, weight='weight').items(), key=lambda x:x[1], reverse=True)[0:10]"
   ]
  },
  {
   "cell_type": "markdown",
   "metadata": {},
   "source": [
    "#### Betweeness centrality\n",
    "- This measure shows which nodes are ‘bridges’ between nodes in a network. It does this by identifying all the shortest paths and then counting how many times each node falls on one."
   ]
  },
  {
   "cell_type": "code",
   "execution_count": 187,
   "metadata": {},
   "outputs": [
    {
     "data": {
      "text/plain": [
       "[('Startups', 0.25269734690296486),\n",
       " ('Doris Yu', 0.24881290875487255),\n",
       " ('Miguel Cordon', 0.1890039888278589),\n",
       " ('News', 0.14149680706635281),\n",
       " ('tech', 0.08435498514943567),\n",
       " ('Stefanie Yeo', 0.05752177292863482),\n",
       " ('hong kong', 0.05539269993224463),\n",
       " ('Asia', 0.050647002890373265),\n",
       " ('TIA Bot', 0.04363813778186497),\n",
       " ('Premium Content', 0.042983719068897176)]"
      ]
     },
     "execution_count": 187,
     "metadata": {},
     "output_type": "execute_result"
    }
   ],
   "source": [
    "sorted(nx.betweenness_centrality(G).items(), key=lambda x:x[1], reverse=True)[0:10]"
   ]
  },
  {
   "cell_type": "code",
   "execution_count": 188,
   "metadata": {},
   "outputs": [
    {
     "data": {
      "text/plain": [
       "[('Doris Yu', 0.24245165087547116),\n",
       " ('Startups', 0.1924481150364999),\n",
       " ('tech', 0.11499717310037079),\n",
       " ('coronavirus', 0.102476512901017),\n",
       " ('Miguel Cordon', 0.08966587503480457),\n",
       " ('indonesia', 0.08956379893666144),\n",
       " ('Asia', 0.08935543690267521),\n",
       " ('TIA Bot', 0.08039127498397762),\n",
       " ('Putra Muskita', 0.07717947917588817),\n",
       " ('Stefanie Yeo', 0.06809347891288298)]"
      ]
     },
     "execution_count": 188,
     "metadata": {},
     "output_type": "execute_result"
    }
   ],
   "source": [
    "sorted(nx.betweenness_centrality(G, weight='weight').items(), key=lambda x:x[1], reverse=True)[0:10]"
   ]
  },
  {
   "cell_type": "markdown",
   "metadata": {},
   "source": [
    "#### Adamic Adar: Finding similar nodes "
   ]
  },
  {
   "cell_type": "code",
   "execution_count": 317,
   "metadata": {
    "scrolled": true
   },
   "outputs": [],
   "source": [
    "adamic = pd.DataFrame(list(nx.adamic_adar_index(G)))"
   ]
  },
  {
   "cell_type": "code",
   "execution_count": 321,
   "metadata": {
    "scrolled": true
   },
   "outputs": [],
   "source": [
    "# Should i normalize the similarity scores?\n",
    "#scaler = MinMaxScaler()\n",
    "#adamic[2] = scaler.fit_transform(np.array(adamic[2]).reshape(-1, 1))"
   ]
  },
  {
   "cell_type": "code",
   "execution_count": 322,
   "metadata": {
    "scrolled": true
   },
   "outputs": [
    {
     "data": {
      "text/html": [
       "<div>\n",
       "<style scoped>\n",
       "    .dataframe tbody tr th:only-of-type {\n",
       "        vertical-align: middle;\n",
       "    }\n",
       "\n",
       "    .dataframe tbody tr th {\n",
       "        vertical-align: top;\n",
       "    }\n",
       "\n",
       "    .dataframe thead th {\n",
       "        text-align: right;\n",
       "    }\n",
       "</style>\n",
       "<table border=\"1\" class=\"dataframe\">\n",
       "  <thead>\n",
       "    <tr style=\"text-align: right;\">\n",
       "      <th></th>\n",
       "      <th>0</th>\n",
       "      <th>1</th>\n",
       "      <th>2</th>\n",
       "    </tr>\n",
       "  </thead>\n",
       "  <tbody>\n",
       "    <tr>\n",
       "      <th>5125</th>\n",
       "      <td>Miguel Cordon</td>\n",
       "      <td>Doris Yu</td>\n",
       "      <td>29.692021</td>\n",
       "    </tr>\n",
       "    <tr>\n",
       "      <th>1320</th>\n",
       "      <td>Kenan Machado</td>\n",
       "      <td>Doris Yu</td>\n",
       "      <td>7.124911</td>\n",
       "    </tr>\n",
       "    <tr>\n",
       "      <th>1363</th>\n",
       "      <td>Kenan Machado</td>\n",
       "      <td>Miguel Cordon</td>\n",
       "      <td>7.124911</td>\n",
       "    </tr>\n",
       "    <tr>\n",
       "      <th>4962</th>\n",
       "      <td>TIA Bot</td>\n",
       "      <td>Doris Yu</td>\n",
       "      <td>6.118000</td>\n",
       "    </tr>\n",
       "    <tr>\n",
       "      <th>4980</th>\n",
       "      <td>TIA Bot</td>\n",
       "      <td>Miguel Cordon</td>\n",
       "      <td>6.118000</td>\n",
       "    </tr>\n",
       "    <tr>\n",
       "      <th>663</th>\n",
       "      <td>Premium Content</td>\n",
       "      <td>News</td>\n",
       "      <td>5.706122</td>\n",
       "    </tr>\n",
       "    <tr>\n",
       "      <th>4004</th>\n",
       "      <td>Melissa Goh</td>\n",
       "      <td>Doris Yu</td>\n",
       "      <td>5.665539</td>\n",
       "    </tr>\n",
       "    <tr>\n",
       "      <th>2800</th>\n",
       "      <td>Startups</td>\n",
       "      <td>indonesia</td>\n",
       "      <td>5.507918</td>\n",
       "    </tr>\n",
       "    <tr>\n",
       "      <th>6959</th>\n",
       "      <td>TIA Visuals</td>\n",
       "      <td>Doris Yu</td>\n",
       "      <td>5.486547</td>\n",
       "    </tr>\n",
       "    <tr>\n",
       "      <th>5120</th>\n",
       "      <td>Miguel Cordon</td>\n",
       "      <td>Putra Muskita</td>\n",
       "      <td>5.223984</td>\n",
       "    </tr>\n",
       "    <tr>\n",
       "      <th>5102</th>\n",
       "      <td>Miguel Cordon</td>\n",
       "      <td>TIA Visuals</td>\n",
       "      <td>4.972648</td>\n",
       "    </tr>\n",
       "    <tr>\n",
       "      <th>7170</th>\n",
       "      <td>Terence Lee</td>\n",
       "      <td>Doris Yu</td>\n",
       "      <td>4.907162</td>\n",
       "    </tr>\n",
       "    <tr>\n",
       "      <th>2831</th>\n",
       "      <td>Startups</td>\n",
       "      <td>china</td>\n",
       "      <td>4.522919</td>\n",
       "    </tr>\n",
       "    <tr>\n",
       "      <th>5111</th>\n",
       "      <td>Miguel Cordon</td>\n",
       "      <td>Terence Lee</td>\n",
       "      <td>4.393264</td>\n",
       "    </tr>\n",
       "    <tr>\n",
       "      <th>4277</th>\n",
       "      <td>News</td>\n",
       "      <td>china</td>\n",
       "      <td>4.298278</td>\n",
       "    </tr>\n",
       "    <tr>\n",
       "      <th>4031</th>\n",
       "      <td>Melissa Goh</td>\n",
       "      <td>Miguel Cordon</td>\n",
       "      <td>4.241402</td>\n",
       "    </tr>\n",
       "    <tr>\n",
       "      <th>2091</th>\n",
       "      <td>fund</td>\n",
       "      <td>Startups</td>\n",
       "      <td>4.103232</td>\n",
       "    </tr>\n",
       "    <tr>\n",
       "      <th>5312</th>\n",
       "      <td>Putra Muskita</td>\n",
       "      <td>Doris Yu</td>\n",
       "      <td>3.781289</td>\n",
       "    </tr>\n",
       "    <tr>\n",
       "      <th>2115</th>\n",
       "      <td>fund</td>\n",
       "      <td>News</td>\n",
       "      <td>3.733962</td>\n",
       "    </tr>\n",
       "    <tr>\n",
       "      <th>5036</th>\n",
       "      <td>Thu Huong Le</td>\n",
       "      <td>Doris Yu</td>\n",
       "      <td>3.553304</td>\n",
       "    </tr>\n",
       "  </tbody>\n",
       "</table>\n",
       "</div>"
      ],
      "text/plain": [
       "                    0              1          2\n",
       "5125    Miguel Cordon       Doris Yu  29.692021\n",
       "1320    Kenan Machado       Doris Yu   7.124911\n",
       "1363    Kenan Machado  Miguel Cordon   7.124911\n",
       "4962          TIA Bot       Doris Yu   6.118000\n",
       "4980          TIA Bot  Miguel Cordon   6.118000\n",
       "663   Premium Content           News   5.706122\n",
       "4004      Melissa Goh       Doris Yu   5.665539\n",
       "2800         Startups      indonesia   5.507918\n",
       "6959      TIA Visuals       Doris Yu   5.486547\n",
       "5120    Miguel Cordon  Putra Muskita   5.223984\n",
       "5102    Miguel Cordon    TIA Visuals   4.972648\n",
       "7170      Terence Lee       Doris Yu   4.907162\n",
       "2831         Startups          china   4.522919\n",
       "5111    Miguel Cordon    Terence Lee   4.393264\n",
       "4277             News          china   4.298278\n",
       "4031      Melissa Goh  Miguel Cordon   4.241402\n",
       "2091             fund       Startups   4.103232\n",
       "5312    Putra Muskita       Doris Yu   3.781289\n",
       "2115             fund           News   3.733962\n",
       "5036     Thu Huong Le       Doris Yu   3.553304"
      ]
     },
     "execution_count": 322,
     "metadata": {},
     "output_type": "execute_result"
    }
   ],
   "source": [
    "adamic.sort_values(2, ascending=False)[0:20]"
   ]
  },
  {
   "cell_type": "code",
   "execution_count": null,
   "metadata": {},
   "outputs": [],
   "source": []
  }
 ],
 "metadata": {
  "kernelspec": {
   "display_name": "Python 3",
   "language": "python",
   "name": "python3"
  },
  "language_info": {
   "codemirror_mode": {
    "name": "ipython",
    "version": 3
   },
   "file_extension": ".py",
   "mimetype": "text/x-python",
   "name": "python",
   "nbconvert_exporter": "python",
   "pygments_lexer": "ipython3",
   "version": "3.7.1"
  }
 },
 "nbformat": 4,
 "nbformat_minor": 2
}
